{
 "cells": [
  {
   "cell_type": "code",
   "execution_count": 2,
   "metadata": {
    "collapsed": false
   },
   "outputs": [
    {
     "data": {
      "text/html": [
       "\n",
       "           <script>\n",
       "               \n",
       "                function vct_load_lib(url, callback){\n",
       "                      if(typeof d3 !== 'undefined' &&\n",
       "                         url === 'http://d3js.org/d3.v3.min.js'){\n",
       "                        callback()\n",
       "                      }\n",
       "                      var s = document.createElement('script');\n",
       "                      s.src = url;\n",
       "                      s.async = true;\n",
       "                      s.onreadystatechange = s.onload = callback;\n",
       "                      s.onerror = function(){\n",
       "                        console.warn(\"failed to load library \" + url);\n",
       "                        };\n",
       "                      document.getElementsByTagName(\"head\")[0].appendChild(s);\n",
       "                };\n",
       "                var vincent_event = new CustomEvent(\n",
       "                  \"vincent_libs_loaded\",\n",
       "                  {bubbles: true, cancelable: true}\n",
       "                );\n",
       "                \n",
       "               function load_all_libs(){\n",
       "                  console.log('Loading Vincent libs...')\n",
       "                  vct_load_lib('http://d3js.org/d3.v3.min.js', function(){\n",
       "                  vct_load_lib('http://d3js.org/d3.geo.projection.v0.min.js', function(){\n",
       "                  vct_load_lib('http://wrobstory.github.io/d3-cloud/d3.layout.cloud.js', function(){\n",
       "                  vct_load_lib('http://wrobstory.github.io/vega/vega.v1.3.3.js', function(){\n",
       "                  window.dispatchEvent(vincent_event);\n",
       "                  });\n",
       "                  });\n",
       "                  });\n",
       "                  });\n",
       "               };\n",
       "               if(typeof define === \"function\" && define.amd){\n",
       "                    if (window['d3'] === undefined ||\n",
       "                        window['topojson'] === undefined){\n",
       "                        require.config(\n",
       "                            {paths: {\n",
       "                              d3: 'http://d3js.org/d3.v3.min',\n",
       "                              topojson: 'http://d3js.org/topojson.v1.min'\n",
       "                              }\n",
       "                            }\n",
       "                          );\n",
       "                        require([\"d3\"], function(d3){\n",
       "                            console.log('Loading Vincent from require.js...')\n",
       "                            window.d3 = d3;\n",
       "                            require([\"topojson\"], function(topojson){\n",
       "                                window.topojson = topojson;\n",
       "                                load_all_libs();\n",
       "                            });\n",
       "                        });\n",
       "                    } else {\n",
       "                        load_all_libs();\n",
       "                    };\n",
       "               }else{\n",
       "                    console.log('Require.js not found, loading manually...')\n",
       "                    load_all_libs();\n",
       "               };\n",
       "\n",
       "           </script>"
      ],
      "text/plain": [
       "<IPython.core.display.HTML object>"
      ]
     },
     "metadata": {},
     "output_type": "display_data"
    },
    {
     "data": {
      "text/plain": [
       "True"
      ]
     },
     "execution_count": 2,
     "metadata": {},
     "output_type": "execute_result"
    }
   ],
   "source": [
    "import redis \n",
    "import vincent \n",
    "vincent.core.initialize_notebook()\n",
    "\n",
    "#\n",
    "# connect to redis running on this machine on its default port 6379\n",
    "#\n",
    "REDIS_HOST = \"localhost\"\n",
    "REDIS_PORT = 6379\n",
    "REDIS = redis.Redis(host=REDIS_HOST, port=REDIS_PORT)\n",
    "# test the connection\n",
    "REDIS.ping()\n"
   ]
  },
  {
   "cell_type": "code",
   "execution_count": 6,
   "metadata": {
    "collapsed": false
   },
   "outputs": [
    {
     "name": "stdout",
     "output_type": "stream",
     "text": [
      "value\n",
      "['EXAMPLE_KEY']\n",
      "[]\n"
     ]
    }
   ],
   "source": [
    "# set/get/del basic key:value pairs \n",
    "\n",
    "REDIS.set(\"EXAMPLE_KEY\", \"value\") # new key:value\n",
    "print REDIS.get(\"EXAMPLE_KEY\")    # see the value\n",
    "print REDIS.keys(\"EXAMPLE_*\")     # see all keys beginning with EXAMPLE_*\n",
    "REDIS.delete(\"EXAMPLE_KEY\")       # delete the key\n",
    "print REDIS.keys(\"EXAMPLE_*\")     # see its gone"
   ]
  },
  {
   "cell_type": "code",
   "execution_count": 12,
   "metadata": {
    "collapsed": false
   },
   "outputs": [
    {
     "data": {
      "text/plain": [
       "True"
      ]
     },
     "execution_count": 12,
     "metadata": {},
     "output_type": "execute_result"
    }
   ],
   "source": [
    "# hash data types are basically redis dictionaries stored by key \n",
    "data = {\"a\" : \"x\", \"b\": \"y\", \"c\": 123.45}\n",
    "REDIS.hmset(\"EXAMPLE_HASH\", data)  # create a new hash named EXAMPLE_HASH \n",
    "REDIS.hmget(\"EXAMPLE_HASH\", \"a\")   # get single key from hash\n",
    "REDIS.hgetall(\"EXAMPLE_HASH\")     # get all keys from hash\n",
    "\n",
    "# note that types get converted to strings:\n",
    "type(REDIS.hmget(\"EXAMPLE_HASH\", \"c\")) != type(data[\"c\"])\n"
   ]
  },
  {
   "cell_type": "code",
   "execution_count": 19,
   "metadata": {
    "collapsed": false
   },
   "outputs": [
    {
     "name": "stdout",
     "output_type": "stream",
     "text": [
      "set(['1', '0', '3', '2', '4'])\n",
      "set(['1', '0', '3', '2', '4'])\n",
      "5\n"
     ]
    },
    {
     "data": {
      "text/plain": [
       "1"
      ]
     },
     "execution_count": 19,
     "metadata": {},
     "output_type": "execute_result"
    }
   ],
   "source": [
    "# set data \n",
    "values = range(5)\n",
    "REDIS.sadd(\"EXAMPLE_SET\", *values)   # add values\n",
    "print(REDIS.smembers(\"EXAMPLE_SET\")) # get set members \n",
    "REDIS.sadd(\"EXAMPLE_SET\", *[1, 1, 2, 2])  # add duplicate values (already members)\n",
    "print(REDIS.smembers(\"EXAMPLE_SET\"))      # set remains same\n",
    "print REDIS.scard(\"EXAMPLE_SET\")          # number of members of set\n",
    "\n",
    "REDIS.delete(\"EXAMPLE_SET\")"
   ]
  },
  {
   "cell_type": "code",
   "execution_count": 23,
   "metadata": {
    "collapsed": false
   },
   "outputs": [
    {
     "name": "stdout",
     "output_type": "stream",
     "text": [
      "value\n",
      "False\n"
     ]
    }
   ],
   "source": [
    "# expriry of keys\n",
    "import time\n",
    "REDIS.set(\"EXAMPLE_EXPIRY_KEY\", \"value\") # create a key\n",
    "print REDIS.get(\"EXAMPLE_EXPIRY_KEY\")    # verify it is present  \n",
    "REDIS.expire(\"EXAMPLE_EXPIRY_KEY\", 1)    # set it to expire in 1 second\n",
    "time.sleep(2)                            # wait 2 seconds\n",
    "print REDIS.exists(\"EXAMPLE_EXPIRY_KEY\") # key no longer exists"
   ]
  },
  {
   "cell_type": "code",
   "execution_count": null,
   "metadata": {
    "collapsed": true
   },
   "outputs": [],
   "source": []
  }
 ],
 "metadata": {
  "kernelspec": {
   "display_name": "Python 2",
   "language": "python",
   "name": "python2"
  },
  "language_info": {
   "codemirror_mode": {
    "name": "ipython",
    "version": 2
   },
   "file_extension": ".py",
   "mimetype": "text/x-python",
   "name": "python",
   "nbconvert_exporter": "python",
   "pygments_lexer": "ipython2",
   "version": "2.7.11"
  }
 },
 "nbformat": 4,
 "nbformat_minor": 0
}
