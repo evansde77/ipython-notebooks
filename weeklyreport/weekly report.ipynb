{
 "metadata": {
  "name": "",
  "signature": "sha256:c31c06797f8572dce22e89b9f646a289c7d1a53d7c06c6a7ffc29201c7977029"
 },
 "nbformat": 3,
 "nbformat_minor": 0,
 "worksheets": [
  {
   "cells": [
    {
     "cell_type": "code",
     "collapsed": false,
     "input": [
      "import sys\n",
      "import os \n",
      "import ConfigParser\n",
      "import datetime\n",
      "from IPython.display import display, HTML \n",
      "\n",
      "from jinja2 import Environment, PackageLoader\n",
      "\n",
      "PARAMS=[\n",
      "    'haproxy_user',\n",
      "    'haproxy_password',\n",
      "    'adm_user',\n",
      "    'adm_password',\n",
      "    'user',\n",
      "    'password', \n",
      "    'web_password'\n",
      "]\n",
      "\n",
      "def read_dot_clou():\n",
      "    \"\"\"util to grab user/password creds from ~/.clou\"\"\"\n",
      "    clou = os.path.expanduser(\"~/.clou\")\n",
      "    config = ConfigParser.RawConfigParser()\n",
      "    config.read(clou)\n",
      "    result = {}\n",
      "    for param in PARAMS:\n",
      "        try:\n",
      "            value =  config.get(\"cloudant\", param)\n",
      "        except Exception:\n",
      "            value = None \n",
      "        result[param] = value\n",
      "    \n",
      "    return result\n",
      "\n",
      "AUTH = read_dot_clou()"
     ],
     "language": "python",
     "metadata": {},
     "outputs": [],
     "prompt_number": 20
    },
    {
     "cell_type": "code",
     "collapsed": false,
     "input": [
      "#\n",
      "#  Add a call out to get data from a service and build a JSON like structure from it, \n",
      "#  analysing it as needed and add the result to the weekly report data structure\n",
      "#  Then use it as part of the template rendering process\n",
      "#\n",
      "weekly_report_data = {\n",
      "    'report_date': datetime.datetime.utcnow().strftime(\"%d/%m/%y\")\n",
      "}"
     ],
     "language": "python",
     "metadata": {},
     "outputs": [],
     "prompt_number": 21
    },
    {
     "cell_type": "code",
     "collapsed": false,
     "input": [
      "\n",
      "jinja_env = Environment(loader=PackageLoader('weekly_report', 'templates'))\n",
      "report_template = jinja_env.get_template('weekly_report.html')\n",
      "\n",
      "report = report_template.render(**weekly_report_data)\n",
      "display(HTML(report))\n"
     ],
     "language": "python",
     "metadata": {},
     "outputs": [
      {
       "html": [
        "<html>\n",
        "<head>\n",
        "<title>Cloudant Weekly Report: 02/09/14</title>\n",
        "\n",
        "\n",
        "</head>\n",
        "<body>\n",
        "    <h1>Cloudant Weekly Report: 02/09/14</h1>\n",
        "\n",
        "</body>\n",
        "</html>"
       ],
       "metadata": {},
       "output_type": "display_data",
       "text": [
        "<IPython.core.display.HTML at 0x10d17fa10>"
       ]
      }
     ],
     "prompt_number": 24
    },
    {
     "cell_type": "code",
     "collapsed": false,
     "input": [
      "\n"
     ],
     "language": "python",
     "metadata": {},
     "outputs": [],
     "prompt_number": 3
    },
    {
     "cell_type": "code",
     "collapsed": false,
     "input": [],
     "language": "python",
     "metadata": {},
     "outputs": []
    }
   ],
   "metadata": {}
  }
 ]
}